{
 "cells": [
  {
   "cell_type": "code",
   "execution_count": 1,
   "id": "944cf82e",
   "metadata": {},
   "outputs": [],
   "source": [
    "import pandas as pd\n",
    "import numpy as np\n",
    "import re\n",
    "import nltk"
   ]
  },
  {
   "cell_type": "code",
   "execution_count": 2,
   "id": "c552fdcb",
   "metadata": {},
   "outputs": [
    {
     "name": "stderr",
     "output_type": "stream",
     "text": [
      "[nltk_data] Downloading package stopwords to\n",
      "[nltk_data]     C:\\Users\\Nirav\\AppData\\Roaming\\nltk_data...\n",
      "[nltk_data]   Package stopwords is already up-to-date!\n"
     ]
    }
   ],
   "source": [
    "from nltk.corpus import stopwords\n",
    "stop = nltk.download('stopwords')\n",
    "stop = stopwords.words('english')"
   ]
  },
  {
   "cell_type": "code",
   "execution_count": 3,
   "id": "0c113f27",
   "metadata": {},
   "outputs": [],
   "source": [
    "merged = pd.read_csv(\"merged.csv\")"
   ]
  },
  {
   "cell_type": "code",
   "execution_count": 4,
   "id": "1afdc260",
   "metadata": {},
   "outputs": [],
   "source": [
    "def remove_pattern(input_txt, pattern):   # create function called \"remove pattern\" - take the arguments of the text and a pattern to look for\n",
    "    r = re.findall(pattern, input_txt)    # find all instances\n",
    "    for i in r:\n",
    "        input_txt = re.sub(i, '', input_txt)   #and each time you find it replace with \"\" (ie. with nothing = remove)\n",
    "        \n",
    "    return input_txt   "
   ]
  },
  {
   "cell_type": "code",
   "execution_count": 5,
   "id": "be78244b",
   "metadata": {},
   "outputs": [],
   "source": [
    "merged['cleaned_text'] = np.vectorize(remove_pattern)(merged['Text'], \"@[\\w]*\")  \n",
    "merged['cleaned_text'] = merged['cleaned_text'].apply(lambda x: ' '.join(x for x in x.split() if x not in stop)) \n",
    "merged['cleaned_text'] = merged['cleaned_text'].apply(lambda x: ' '.join([w for w in x.split() if len(w)>3]))"
   ]
  },
  {
   "cell_type": "code",
   "execution_count": 6,
   "id": "ab3e4e6c",
   "metadata": {},
   "outputs": [
    {
     "name": "stdout",
     "output_type": "stream",
     "text": [
      "10868\n"
     ]
    }
   ],
   "source": [
    "row, col = merged.shape\n",
    "print(row)"
   ]
  },
  {
   "cell_type": "code",
   "execution_count": 7,
   "id": "d3b7d5be",
   "metadata": {},
   "outputs": [],
   "source": [
    "merged[\"Suspicious\"] = True # set all tweets to suspicious first "
   ]
  },
  {
   "cell_type": "code",
   "execution_count": 8,
   "id": "eef415c1",
   "metadata": {},
   "outputs": [
    {
     "name": "stderr",
     "output_type": "stream",
     "text": [
      "C:\\Users\\Nirav\\anaconda3\\lib\\site-packages\\pandas\\core\\indexing.py:1637: SettingWithCopyWarning: \n",
      "A value is trying to be set on a copy of a slice from a DataFrame\n",
      "\n",
      "See the caveats in the documentation: https://pandas.pydata.org/pandas-docs/stable/user_guide/indexing.html#returning-a-view-versus-a-copy\n",
      "  self._setitem_single_block(indexer, value, name)\n"
     ]
    }
   ],
   "source": [
    "for i in range(row):  # Go through tweets to see if it's suspicious or unsuspicious\n",
    "    tweet = merged.loc[i]\n",
    "    if \"help find\" in tweet[\"cleaned_text\"].lower():\n",
    "        merged[\"Suspicious\"].loc[i] = False\n",
    "    else:\n",
    "        merged[\"Suspicious\"].loc[i] = True"
   ]
  },
  {
   "cell_type": "code",
   "execution_count": 9,
   "id": "d0691ddd",
   "metadata": {},
   "outputs": [],
   "source": [
    "for i in range(row):\n",
    "    tweet = merged.loc[i]\n",
    "    if \"dog\" in tweet[\"cleaned_text\"].lower():\n",
    "        merged[\"Suspicious\"].loc[i] = False\n",
    "    else:\n",
    "        continue"
   ]
  },
  {
   "cell_type": "code",
   "execution_count": 10,
   "id": "778cc7e2",
   "metadata": {},
   "outputs": [],
   "source": [
    "for i in range(row):\n",
    "    tweet = merged.loc[i]\n",
    "    if \"book\" in tweet[\"cleaned_text\"].lower():\n",
    "        merged[\"Suspicious\"].loc[i] = False\n",
    "    else:\n",
    "        continue"
   ]
  },
  {
   "cell_type": "code",
   "execution_count": 11,
   "id": "fd03d88e",
   "metadata": {},
   "outputs": [],
   "source": [
    "for i in range(row):\n",
    "    tweet = merged.loc[i]\n",
    "    if \"book\" in tweet[\"cleaned_text\"].lower():\n",
    "        merged[\"Suspicious\"].loc[i] = False\n",
    "    else:\n",
    "        continue"
   ]
  },
  {
   "cell_type": "code",
   "execution_count": 12,
   "id": "475432b4",
   "metadata": {},
   "outputs": [],
   "source": [
    "for i in range(row):\n",
    "    tweet = merged.loc[i]\n",
    "    if \"exam\" in tweet[\"cleaned_text\"].lower():\n",
    "        merged[\"Suspicious\"].loc[i] = False\n",
    "    else:\n",
    "        continue"
   ]
  },
  {
   "cell_type": "code",
   "execution_count": 13,
   "id": "61599214",
   "metadata": {},
   "outputs": [],
   "source": [
    "for i in range(row):\n",
    "    tweet = merged.loc[i]\n",
    "    if \"meme\" in tweet[\"cleaned_text\"].lower():\n",
    "        merged[\"Suspicious\"].loc[i] = False\n",
    "    else:\n",
    "        continue"
   ]
  },
  {
   "cell_type": "code",
   "execution_count": 14,
   "id": "0ccb5d9d",
   "metadata": {},
   "outputs": [],
   "source": [
    "for i in range(row):\n",
    "    tweet = merged.loc[i]\n",
    "    if \"#meme\" in tweet[\"cleaned_text\"].lower():\n",
    "        merged[\"Suspicious\"].loc[i] = False\n",
    "    else:\n",
    "        continue"
   ]
  },
  {
   "cell_type": "code",
   "execution_count": 15,
   "id": "69576fac",
   "metadata": {},
   "outputs": [],
   "source": [
    "for i in range(row):\n",
    "    tweet = merged.loc[i]\n",
    "    if \"#joke\" in tweet[\"cleaned_text\"].lower():\n",
    "        merged[\"Suspicious\"].loc[i] = False\n",
    "    else:\n",
    "        continue"
   ]
  },
  {
   "cell_type": "code",
   "execution_count": 16,
   "id": "92e6818b",
   "metadata": {},
   "outputs": [],
   "source": [
    "for i in range(row):\n",
    "    tweet = merged.loc[i]\n",
    "    if \"paper\" in tweet[\"cleaned_text\"].lower():\n",
    "        merged[\"Suspicious\"].loc[i] = False\n",
    "    else:\n",
    "        continue"
   ]
  },
  {
   "cell_type": "code",
   "execution_count": 17,
   "id": "da2a1a2a",
   "metadata": {},
   "outputs": [],
   "source": [
    "for i in range(row):\n",
    "    tweet = merged.loc[i]\n",
    "    if \"kill\" in tweet[\"cleaned_text\"].lower():\n",
    "        merged[\"Suspicious\"].loc[i] = True\n",
    "    else:\n",
    "        continue"
   ]
  },
  {
   "cell_type": "code",
   "execution_count": 18,
   "id": "80c52942",
   "metadata": {},
   "outputs": [],
   "source": [
    "for i in range(row):\n",
    "    tweet = merged.loc[i]\n",
    "    if \"suicide\" in tweet[\"cleaned_text\"].lower():\n",
    "        merged[\"Suspicious\"].loc[i] = True\n",
    "    else:\n",
    "        continue"
   ]
  },
  {
   "cell_type": "code",
   "execution_count": 19,
   "id": "5985135d",
   "metadata": {},
   "outputs": [],
   "source": [
    "for i in range(row):\n",
    "    tweet = merged.loc[i]\n",
    "    if \"pet\" in tweet[\"cleaned_text\"].lower():\n",
    "        merged[\"Suspicious\"].loc[i] = False\n",
    "    else:\n",
    "        continue"
   ]
  },
  {
   "cell_type": "code",
   "execution_count": 20,
   "id": "7fc7bdce",
   "metadata": {},
   "outputs": [],
   "source": [
    "for i in range(row):\n",
    "    tweet = merged.loc[i]\n",
    "    if \"pets\" in tweet[\"cleaned_text\"].lower():\n",
    "        merged[\"Suspicious\"].loc[i] = False\n",
    "    else:\n",
    "        continue"
   ]
  },
  {
   "cell_type": "code",
   "execution_count": 21,
   "id": "bcaf144e",
   "metadata": {},
   "outputs": [],
   "source": [
    "for i in range(row):\n",
    "    tweet = merged.loc[i]\n",
    "    if \"cat\" in tweet[\"cleaned_text\"].lower():\n",
    "        merged[\"Suspicious\"].loc[i] = False\n",
    "    else:\n",
    "        continue"
   ]
  },
  {
   "cell_type": "code",
   "execution_count": 22,
   "id": "5b4b6752",
   "metadata": {},
   "outputs": [],
   "source": [
    "for i in range(row):\n",
    "    tweet = merged.loc[i]\n",
    "    if \"depressed\" in tweet[\"cleaned_text\"].lower():\n",
    "        merged[\"Suspicious\"].loc[i] = True\n",
    "    else:\n",
    "        continue"
   ]
  },
  {
   "cell_type": "code",
   "execution_count": 23,
   "id": "45912d8e",
   "metadata": {},
   "outputs": [],
   "source": [
    "for i in range(row):\n",
    "    tweet = merged.loc[i]\n",
    "    if \"drama\" in tweet[\"cleaned_text\"].lower():\n",
    "        merged[\"Suspicious\"].loc[i] = False\n",
    "    else:\n",
    "        continue"
   ]
  },
  {
   "cell_type": "code",
   "execution_count": 24,
   "id": "22a0059d",
   "metadata": {},
   "outputs": [],
   "source": [
    "for i in range(row):\n",
    "    tweet = merged.loc[i]\n",
    "    if \"astrology\" in tweet[\"cleaned_text\"].lower():\n",
    "        merged[\"Suspicious\"].loc[i] = False\n",
    "    else:\n",
    "        continue"
   ]
  },
  {
   "cell_type": "code",
   "execution_count": 25,
   "id": "8ff8bab7",
   "metadata": {},
   "outputs": [],
   "source": [
    "for i in range(row):\n",
    "    tweet = merged.loc[i]\n",
    "    if \"medicine\" in tweet[\"cleaned_text\"].lower():\n",
    "        merged[\"Suspicious\"].loc[i] = False\n",
    "    else:\n",
    "        continue"
   ]
  },
  {
   "cell_type": "code",
   "execution_count": 26,
   "id": "6f5dae2f",
   "metadata": {},
   "outputs": [],
   "source": [
    "for i in range(row):\n",
    "    tweet = merged.loc[i]\n",
    "    if \"lights\" in tweet[\"cleaned_text\"].lower():\n",
    "        merged[\"Suspicious\"].loc[i] = False\n",
    "    else:\n",
    "        continue"
   ]
  },
  {
   "cell_type": "code",
   "execution_count": 27,
   "id": "fde02819",
   "metadata": {},
   "outputs": [],
   "source": [
    "for i in range(row):\n",
    "    tweet = merged.loc[i]\n",
    "    if \"#lights\" in tweet[\"cleaned_text\"].lower():\n",
    "        merged[\"Suspicious\"].loc[i] = False\n",
    "    else:\n",
    "        continue"
   ]
  },
  {
   "cell_type": "code",
   "execution_count": 28,
   "id": "129b7289",
   "metadata": {},
   "outputs": [],
   "source": [
    "for i in range(row):\n",
    "    tweet = merged.loc[i]\n",
    "    if \"cutcoin\" in tweet[\"cleaned_text\"].lower():\n",
    "        merged[\"Suspicious\"].loc[i] = False\n",
    "    else:\n",
    "        continue"
   ]
  },
  {
   "cell_type": "code",
   "execution_count": 29,
   "id": "fc56589a",
   "metadata": {},
   "outputs": [],
   "source": [
    "for i in range(row):\n",
    "    tweet = merged.loc[i]\n",
    "    if \"project\" in tweet[\"cleaned_text\"].lower():\n",
    "        merged[\"Suspicious\"].loc[i] = False\n",
    "    else:\n",
    "        continue"
   ]
  },
  {
   "cell_type": "code",
   "execution_count": 30,
   "id": "0875bfc6",
   "metadata": {},
   "outputs": [],
   "source": [
    "for i in range(row):\n",
    "    tweet = merged.loc[i]\n",
    "    if \"film\" in tweet[\"cleaned_text\"].lower():\n",
    "        merged[\"Suspicious\"].loc[i] = False\n",
    "    else:\n",
    "        continue"
   ]
  },
  {
   "cell_type": "code",
   "execution_count": 31,
   "id": "df498515",
   "metadata": {},
   "outputs": [],
   "source": [
    "for i in range(row):\n",
    "    tweet = merged.loc[i]\n",
    "    if \"holidays\" in tweet[\"cleaned_text\"].lower():\n",
    "        merged[\"Suspicious\"].loc[i] = False\n",
    "    else:\n",
    "        continue"
   ]
  },
  {
   "cell_type": "code",
   "execution_count": 32,
   "id": "e495ef9e",
   "metadata": {},
   "outputs": [],
   "source": [
    "for i in range(row):\n",
    "    tweet = merged.loc[i]\n",
    "    if \"holiday\" in tweet[\"cleaned_text\"].lower():\n",
    "        merged[\"Suspicious\"].loc[i] = False\n",
    "    else:\n",
    "        continue"
   ]
  },
  {
   "cell_type": "code",
   "execution_count": 33,
   "id": "f93507ba",
   "metadata": {},
   "outputs": [],
   "source": [
    "for i in range(row):\n",
    "    tweet = merged.loc[i]\n",
    "    if \"airlines\" in tweet[\"cleaned_text\"].lower():\n",
    "        merged[\"Suspicious\"].loc[i] = False\n",
    "    else:\n",
    "        continue"
   ]
  },
  {
   "cell_type": "code",
   "execution_count": 34,
   "id": "435b60e7",
   "metadata": {},
   "outputs": [],
   "source": [
    "for i in range(row):\n",
    "    tweet = merged.loc[i]\n",
    "    if \"god\" in tweet[\"cleaned_text\"].lower():\n",
    "        merged[\"Suspicious\"].loc[i] = False\n",
    "    else:\n",
    "        continue"
   ]
  },
  {
   "cell_type": "code",
   "execution_count": 35,
   "id": "035d127e",
   "metadata": {},
   "outputs": [],
   "source": [
    "for i in range(row):\n",
    "    tweet = merged.loc[i]\n",
    "    if \"play\" in tweet[\"cleaned_text\"].lower():\n",
    "        merged[\"Suspicious\"].loc[i] = False\n",
    "    else:\n",
    "        continue"
   ]
  },
  {
   "cell_type": "code",
   "execution_count": 36,
   "id": "afe7c551",
   "metadata": {},
   "outputs": [],
   "source": [
    "for i in range(row):\n",
    "    tweet = merged.loc[i]\n",
    "    if \"poverty\" in tweet[\"cleaned_text\"].lower():\n",
    "        merged[\"Suspicious\"].loc[i] = False\n",
    "    else:\n",
    "        continue"
   ]
  },
  {
   "cell_type": "code",
   "execution_count": 37,
   "id": "9a90e401",
   "metadata": {},
   "outputs": [],
   "source": [
    "for i in range(row):\n",
    "    tweet = merged.loc[i]\n",
    "    if \"courts\" in tweet[\"cleaned_text\"].lower():\n",
    "        merged[\"Suspicious\"].loc[i] = False\n",
    "    else:\n",
    "        continue"
   ]
  },
  {
   "cell_type": "code",
   "execution_count": 38,
   "id": "5e7f3b99",
   "metadata": {},
   "outputs": [],
   "source": [
    "for i in range(row):\n",
    "    tweet = merged.loc[i]\n",
    "    if \"documentaries\" in tweet[\"cleaned_text\"].lower():\n",
    "        merged[\"Suspicious\"].loc[i] = False\n",
    "    else:\n",
    "        continue"
   ]
  },
  {
   "cell_type": "code",
   "execution_count": 39,
   "id": "22fe334d",
   "metadata": {},
   "outputs": [],
   "source": [
    "for i in range(row):\n",
    "    tweet = merged.loc[i]\n",
    "    if \"constitution\" in tweet[\"cleaned_text\"].lower():\n",
    "        merged[\"Suspicious\"].loc[i] = False\n",
    "    else:\n",
    "        continue"
   ]
  },
  {
   "cell_type": "code",
   "execution_count": 40,
   "id": "52df9012",
   "metadata": {},
   "outputs": [],
   "source": [
    "for i in range(row):\n",
    "    tweet = merged.loc[i]\n",
    "    if \"politics\" in tweet[\"cleaned_text\"].lower():\n",
    "        merged[\"Suspicious\"].loc[i] = False\n",
    "    else:\n",
    "        continue"
   ]
  },
  {
   "cell_type": "code",
   "execution_count": 41,
   "id": "6bbf8eb1",
   "metadata": {},
   "outputs": [],
   "source": [
    "for i in range(row):\n",
    "    tweet = merged.loc[i]\n",
    "    if \"election\" in tweet[\"cleaned_text\"].lower():\n",
    "        merged[\"Suspicious\"].loc[i] = False\n",
    "    else:\n",
    "        continue"
   ]
  },
  {
   "cell_type": "code",
   "execution_count": 42,
   "id": "e8659605",
   "metadata": {},
   "outputs": [],
   "source": [
    "for i in range(row):\n",
    "    tweet = merged.loc[i]\n",
    "    if \"vote\" in tweet[\"cleaned_text\"].lower():\n",
    "        merged[\"Suspicious\"].loc[i] = False\n",
    "    else:\n",
    "        continue"
   ]
  },
  {
   "cell_type": "code",
   "execution_count": 43,
   "id": "e97223f5",
   "metadata": {},
   "outputs": [],
   "source": [
    "for i in range(row):\n",
    "    tweet = merged.loc[i]\n",
    "    if \"president\" in tweet[\"cleaned_text\"].lower():\n",
    "        merged[\"Suspicious\"].loc[i] = False\n",
    "    else:\n",
    "        continue"
   ]
  },
  {
   "cell_type": "code",
   "execution_count": 44,
   "id": "d14937bc",
   "metadata": {},
   "outputs": [],
   "source": [
    "for i in range(row):\n",
    "    tweet = merged.loc[i]\n",
    "    if \"chihuahua`\" in tweet[\"cleaned_text\"].lower():\n",
    "        merged[\"Suspicious\"].loc[i] = False\n",
    "    else:\n",
    "        continue"
   ]
  },
  {
   "cell_type": "code",
   "execution_count": 45,
   "id": "640e90f4",
   "metadata": {},
   "outputs": [],
   "source": [
    "for i in range(row):\n",
    "    tweet = merged.loc[i]\n",
    "    if \"husky\" in tweet[\"cleaned_text\"].lower():\n",
    "        merged[\"Suspicious\"].loc[i] = False\n",
    "    else:\n",
    "        continue"
   ]
  },
  {
   "cell_type": "code",
   "execution_count": 46,
   "id": "46a38bb9",
   "metadata": {},
   "outputs": [],
   "source": [
    "for i in range(row):\n",
    "    tweet = merged.loc[i]\n",
    "    if \"rottweiler\" in tweet[\"cleaned_text\"].lower():\n",
    "        merged[\"Suspicious\"].loc[i] = False\n",
    "    else:\n",
    "        continue"
   ]
  },
  {
   "cell_type": "code",
   "execution_count": 47,
   "id": "526f6e24",
   "metadata": {},
   "outputs": [],
   "source": [
    "for i in range(row):\n",
    "    tweet = merged.loc[i]\n",
    "    if \"checking\" in tweet[\"cleaned_text\"].lower():\n",
    "        merged[\"Suspicious\"].loc[i] = False\n",
    "    else:\n",
    "        continue"
   ]
  },
  {
   "cell_type": "code",
   "execution_count": 48,
   "id": "280a131a",
   "metadata": {},
   "outputs": [],
   "source": [
    "for i in range(row):\n",
    "    tweet = merged.loc[i]\n",
    "    if \"jesus\" in tweet[\"cleaned_text\"].lower():\n",
    "        merged[\"Suspicious\"].loc[i] = False\n",
    "    else:\n",
    "        continue"
   ]
  },
  {
   "cell_type": "code",
   "execution_count": 49,
   "id": "0262ba02",
   "metadata": {},
   "outputs": [],
   "source": [
    "for i in range(row):\n",
    "    tweet = merged.loc[i]\n",
    "    if \"BTS\" in tweet[\"cleaned_text\"].lower():\n",
    "        merged[\"Suspicious\"].loc[i] = False\n",
    "    else:\n",
    "        continue"
   ]
  },
  {
   "cell_type": "code",
   "execution_count": 50,
   "id": "e7ca5aec",
   "metadata": {},
   "outputs": [],
   "source": [
    "for i in range(row):\n",
    "    tweet = merged.loc[i]\n",
    "    if \"#anime\" in tweet[\"cleaned_text\"].lower():\n",
    "        merged[\"Suspicious\"].loc[i] = False\n",
    "    else:\n",
    "        continue"
   ]
  },
  {
   "cell_type": "code",
   "execution_count": 51,
   "id": "46d3e872",
   "metadata": {},
   "outputs": [],
   "source": [
    "for i in range(row):\n",
    "    tweet = merged.loc[i]\n",
    "    if \"youtube\" in tweet[\"cleaned_text\"].lower():\n",
    "        merged[\"Suspicious\"].loc[i] = False\n",
    "    else:\n",
    "        continue"
   ]
  },
  {
   "cell_type": "code",
   "execution_count": 52,
   "id": "a2a2f35c",
   "metadata": {},
   "outputs": [],
   "source": [
    "for i in range(row):\n",
    "    tweet = merged.loc[i]\n",
    "    if \"black lives matter\" in tweet[\"cleaned_text\"].lower():\n",
    "        merged[\"Suspicious\"].loc[i] = False\n",
    "    else:\n",
    "        continue"
   ]
  },
  {
   "cell_type": "code",
   "execution_count": 53,
   "id": "f901449a",
   "metadata": {},
   "outputs": [
    {
     "data": {
      "text/html": [
       "<div>\n",
       "<style scoped>\n",
       "    .dataframe tbody tr th:only-of-type {\n",
       "        vertical-align: middle;\n",
       "    }\n",
       "\n",
       "    .dataframe tbody tr th {\n",
       "        vertical-align: top;\n",
       "    }\n",
       "\n",
       "    .dataframe thead th {\n",
       "        text-align: right;\n",
       "    }\n",
       "</style>\n",
       "<table border=\"1\" class=\"dataframe\">\n",
       "  <thead>\n",
       "    <tr style=\"text-align: right;\">\n",
       "      <th></th>\n",
       "      <th>Unnamed: 0</th>\n",
       "      <th>Tweet Date</th>\n",
       "      <th>Name</th>\n",
       "      <th>Location</th>\n",
       "      <th>Geolocation</th>\n",
       "      <th>Followers</th>\n",
       "      <th>Text</th>\n",
       "      <th>Word</th>\n",
       "      <th>Description</th>\n",
       "      <th>Coordinates</th>\n",
       "      <th>Friends</th>\n",
       "      <th>cleaned_text</th>\n",
       "      <th>Suspicious</th>\n",
       "    </tr>\n",
       "  </thead>\n",
       "  <tbody>\n",
       "    <tr>\n",
       "      <th>0</th>\n",
       "      <td>0</td>\n",
       "      <td>2021-11-08 12:15:01</td>\n",
       "      <td>틴 is #Lost ❤️‍🩹🍊👽🦉</td>\n",
       "      <td>#JUNGHWANatomy</td>\n",
       "      <td>NaN</td>\n",
       "      <td>828</td>\n",
       "      <td>RT @ph_ryujunyeol: #LOST Script Book, OST Albu...</td>\n",
       "      <td>#lost</td>\n",
       "      <td>just my rambles | cw: Live, Lost, The Veil, On...</td>\n",
       "      <td>NaN</td>\n",
       "      <td>688</td>\n",
       "      <td>#LOST Script Book, Album Diary Place order her...</td>\n",
       "      <td>False</td>\n",
       "    </tr>\n",
       "    <tr>\n",
       "      <th>1</th>\n",
       "      <td>1</td>\n",
       "      <td>2021-11-08 12:14:31</td>\n",
       "      <td>Carol</td>\n",
       "      <td>NaN</td>\n",
       "      <td>NaN</td>\n",
       "      <td>1431</td>\n",
       "      <td>RT @AdoptionsUk: Please retweet to help find L...</td>\n",
       "      <td>#lost</td>\n",
       "      <td>NaN</td>\n",
       "      <td>NaN</td>\n",
       "      <td>2372</td>\n",
       "      <td>Please retweet help find LOST #GLASGOW Spooked...</td>\n",
       "      <td>False</td>\n",
       "    </tr>\n",
       "    <tr>\n",
       "      <th>2</th>\n",
       "      <td>2</td>\n",
       "      <td>2021-11-08 12:13:43</td>\n",
       "      <td>inspector koo enjoyer</td>\n",
       "      <td>she/her</td>\n",
       "      <td>NaN</td>\n",
       "      <td>1060</td>\n",
       "      <td>RT @hanjinkz: Thinking about them and their te...</td>\n",
       "      <td>#lost</td>\n",
       "      <td>obsessive, tv, politics</td>\n",
       "      <td>NaN</td>\n",
       "      <td>575</td>\n",
       "      <td>Thinking tender hearts #Lost #인간실격 https://t.c...</td>\n",
       "      <td>True</td>\n",
       "    </tr>\n",
       "    <tr>\n",
       "      <th>3</th>\n",
       "      <td>3</td>\n",
       "      <td>2021-11-08 12:12:55</td>\n",
       "      <td>Lesley</td>\n",
       "      <td>NaN</td>\n",
       "      <td>NaN</td>\n",
       "      <td>42</td>\n",
       "      <td>RT @AdoptionsUk: Please retweet to help find L...</td>\n",
       "      <td>#lost</td>\n",
       "      <td>NaN</td>\n",
       "      <td>NaN</td>\n",
       "      <td>289</td>\n",
       "      <td>Please retweet help find LOST #GLASGOW Spooked...</td>\n",
       "      <td>False</td>\n",
       "    </tr>\n",
       "    <tr>\n",
       "      <th>4</th>\n",
       "      <td>4</td>\n",
       "      <td>2021-11-08 12:11:28</td>\n",
       "      <td>Christine Pennock ✝️🧶🎓🧵🎨🎼🎹📸</td>\n",
       "      <td>merseyside</td>\n",
       "      <td>NaN</td>\n",
       "      <td>89</td>\n",
       "      <td>RT @AdoptionsUk: Please retweet to HELP FIND T...</td>\n",
       "      <td>#lost</td>\n",
       "      <td>Photographer,musician, artist - basically l’m ...</td>\n",
       "      <td>NaN</td>\n",
       "      <td>185</td>\n",
       "      <td>Please retweet HELP FIND OWNER STRAY #HUSKY #S...</td>\n",
       "      <td>False</td>\n",
       "    </tr>\n",
       "    <tr>\n",
       "      <th>...</th>\n",
       "      <td>...</td>\n",
       "      <td>...</td>\n",
       "      <td>...</td>\n",
       "      <td>...</td>\n",
       "      <td>...</td>\n",
       "      <td>...</td>\n",
       "      <td>...</td>\n",
       "      <td>...</td>\n",
       "      <td>...</td>\n",
       "      <td>...</td>\n",
       "      <td>...</td>\n",
       "      <td>...</td>\n",
       "      <td>...</td>\n",
       "    </tr>\n",
       "    <tr>\n",
       "      <th>10863</th>\n",
       "      <td>1244</td>\n",
       "      <td>2021-12-10 07:17:29</td>\n",
       "      <td>WIN ALOT</td>\n",
       "      <td>Las Vegas, NV</td>\n",
       "      <td>NaN</td>\n",
       "      <td>57</td>\n",
       "      <td>Real Winners.\\nWIN ALOT ✅ \\n#GamblingTwitter #...</td>\n",
       "      <td>#hate</td>\n",
       "      <td>Everyday We Provide Profitable Sports Picks fo...</td>\n",
       "      <td>NaN</td>\n",
       "      <td>182</td>\n",
       "      <td>Real Winners. ALOT #GamblingTwitter #love #mor...</td>\n",
       "      <td>True</td>\n",
       "    </tr>\n",
       "    <tr>\n",
       "      <th>10864</th>\n",
       "      <td>1245</td>\n",
       "      <td>2021-12-10 06:58:15</td>\n",
       "      <td>Israel</td>\n",
       "      <td>NaN</td>\n",
       "      <td>NaN</td>\n",
       "      <td>1</td>\n",
       "      <td>#Christianity #love #hate #war #peace</td>\n",
       "      <td>#hate</td>\n",
       "      <td>son (daughter? I’m a little confused) of the L...</td>\n",
       "      <td>NaN</td>\n",
       "      <td>3</td>\n",
       "      <td>#Christianity #love #hate #war #peace</td>\n",
       "      <td>True</td>\n",
       "    </tr>\n",
       "    <tr>\n",
       "      <th>10865</th>\n",
       "      <td>1246</td>\n",
       "      <td>2021-12-10 06:54:28</td>\n",
       "      <td>Piyush Tiwari🇮🇳🕉</td>\n",
       "      <td>Lucknow, India</td>\n",
       "      <td>NaN</td>\n",
       "      <td>5304</td>\n",
       "      <td>RT @ShivVDubey1: 🤬Top 10 Most Hated Countries!...</td>\n",
       "      <td>#hate</td>\n",
       "      <td>Educationist, Ambivert, Nationalist and a Prou...</td>\n",
       "      <td>NaN</td>\n",
       "      <td>5695</td>\n",
       "      <td>🤬Top Most Hated Countries! know national stere...</td>\n",
       "      <td>True</td>\n",
       "    </tr>\n",
       "    <tr>\n",
       "      <th>10866</th>\n",
       "      <td>1247</td>\n",
       "      <td>2021-12-10 06:50:36</td>\n",
       "      <td>pain♋️</td>\n",
       "      <td>NaN</td>\n",
       "      <td>NaN</td>\n",
       "      <td>4</td>\n",
       "      <td>Im tryna mix my bitches together #3someFFM #ha...</td>\n",
       "      <td>#hate</td>\n",
       "      <td>rawr</td>\n",
       "      <td>NaN</td>\n",
       "      <td>63</td>\n",
       "      <td>tryna bitches together #3someFFM #hate #EatItUp</td>\n",
       "      <td>True</td>\n",
       "    </tr>\n",
       "    <tr>\n",
       "      <th>10867</th>\n",
       "      <td>1248</td>\n",
       "      <td>2021-12-10 06:05:07</td>\n",
       "      <td>A͓̽F͓̽I͓̽C͓̽I͓̽O͓̽N͓̽A͓̽D͓̽O͓̽™</td>\n",
       "      <td>Kuwait</td>\n",
       "      <td>NaN</td>\n",
       "      <td>204</td>\n",
       "      <td>RT @ALLAN_AXFORD: 1970 Chevrolet Corvette Conv...</td>\n",
       "      <td>#hate</td>\n",
       "      <td>Humble Mathematician ..\\n\\nFor every dark nigh...</td>\n",
       "      <td>NaN</td>\n",
       "      <td>129</td>\n",
       "      <td>1970 Chevrolet Corvette Convertible #Rate #Hat...</td>\n",
       "      <td>True</td>\n",
       "    </tr>\n",
       "  </tbody>\n",
       "</table>\n",
       "<p>10868 rows × 13 columns</p>\n",
       "</div>"
      ],
      "text/plain": [
       "       Unnamed: 0           Tweet Date                             Name  \\\n",
       "0               0  2021-11-08 12:15:01               틴 is #Lost ❤️‍🩹🍊👽🦉   \n",
       "1               1  2021-11-08 12:14:31                            Carol   \n",
       "2               2  2021-11-08 12:13:43            inspector koo enjoyer   \n",
       "3               3  2021-11-08 12:12:55                           Lesley   \n",
       "4               4  2021-11-08 12:11:28      Christine Pennock ✝️🧶🎓🧵🎨🎼🎹📸   \n",
       "...           ...                  ...                              ...   \n",
       "10863        1244  2021-12-10 07:17:29                         WIN ALOT   \n",
       "10864        1245  2021-12-10 06:58:15                           Israel   \n",
       "10865        1246  2021-12-10 06:54:28                 Piyush Tiwari🇮🇳🕉   \n",
       "10866        1247  2021-12-10 06:50:36                           pain♋️   \n",
       "10867        1248  2021-12-10 06:05:07  A͓̽F͓̽I͓̽C͓̽I͓̽O͓̽N͓̽A͓̽D͓̽O͓̽™   \n",
       "\n",
       "             Location Geolocation  Followers  \\\n",
       "0      #JUNGHWANatomy         NaN        828   \n",
       "1                 NaN         NaN       1431   \n",
       "2             she/her         NaN       1060   \n",
       "3                 NaN         NaN         42   \n",
       "4          merseyside         NaN         89   \n",
       "...               ...         ...        ...   \n",
       "10863   Las Vegas, NV         NaN         57   \n",
       "10864             NaN         NaN          1   \n",
       "10865  Lucknow, India         NaN       5304   \n",
       "10866             NaN         NaN          4   \n",
       "10867          Kuwait         NaN        204   \n",
       "\n",
       "                                                    Text   Word  \\\n",
       "0      RT @ph_ryujunyeol: #LOST Script Book, OST Albu...  #lost   \n",
       "1      RT @AdoptionsUk: Please retweet to help find L...  #lost   \n",
       "2      RT @hanjinkz: Thinking about them and their te...  #lost   \n",
       "3      RT @AdoptionsUk: Please retweet to help find L...  #lost   \n",
       "4      RT @AdoptionsUk: Please retweet to HELP FIND T...  #lost   \n",
       "...                                                  ...    ...   \n",
       "10863  Real Winners.\\nWIN ALOT ✅ \\n#GamblingTwitter #...  #hate   \n",
       "10864              #Christianity #love #hate #war #peace  #hate   \n",
       "10865  RT @ShivVDubey1: 🤬Top 10 Most Hated Countries!...  #hate   \n",
       "10866  Im tryna mix my bitches together #3someFFM #ha...  #hate   \n",
       "10867  RT @ALLAN_AXFORD: 1970 Chevrolet Corvette Conv...  #hate   \n",
       "\n",
       "                                             Description Coordinates  Friends  \\\n",
       "0      just my rambles | cw: Live, Lost, The Veil, On...         NaN      688   \n",
       "1                                                    NaN         NaN     2372   \n",
       "2                                obsessive, tv, politics         NaN      575   \n",
       "3                                                    NaN         NaN      289   \n",
       "4      Photographer,musician, artist - basically l’m ...         NaN      185   \n",
       "...                                                  ...         ...      ...   \n",
       "10863  Everyday We Provide Profitable Sports Picks fo...         NaN      182   \n",
       "10864  son (daughter? I’m a little confused) of the L...         NaN        3   \n",
       "10865  Educationist, Ambivert, Nationalist and a Prou...         NaN     5695   \n",
       "10866                                               rawr         NaN       63   \n",
       "10867  Humble Mathematician ..\\n\\nFor every dark nigh...         NaN      129   \n",
       "\n",
       "                                            cleaned_text  Suspicious  \n",
       "0      #LOST Script Book, Album Diary Place order her...       False  \n",
       "1      Please retweet help find LOST #GLASGOW Spooked...       False  \n",
       "2      Thinking tender hearts #Lost #인간실격 https://t.c...        True  \n",
       "3      Please retweet help find LOST #GLASGOW Spooked...       False  \n",
       "4      Please retweet HELP FIND OWNER STRAY #HUSKY #S...       False  \n",
       "...                                                  ...         ...  \n",
       "10863  Real Winners. ALOT #GamblingTwitter #love #mor...        True  \n",
       "10864              #Christianity #love #hate #war #peace        True  \n",
       "10865  🤬Top Most Hated Countries! know national stere...        True  \n",
       "10866    tryna bitches together #3someFFM #hate #EatItUp        True  \n",
       "10867  1970 Chevrolet Corvette Convertible #Rate #Hat...        True  \n",
       "\n",
       "[10868 rows x 13 columns]"
      ]
     },
     "execution_count": 53,
     "metadata": {},
     "output_type": "execute_result"
    }
   ],
   "source": [
    "merged"
   ]
  },
  {
   "cell_type": "code",
   "execution_count": 55,
   "id": "58a2de72",
   "metadata": {},
   "outputs": [],
   "source": [
    "merged.to_csv(\"resultsCSV.csv\")"
   ]
  },
  {
   "cell_type": "code",
   "execution_count": null,
   "id": "a1362b4c",
   "metadata": {},
   "outputs": [],
   "source": []
  }
 ],
 "metadata": {
  "kernelspec": {
   "display_name": "Python 3",
   "language": "python",
   "name": "python3"
  },
  "language_info": {
   "codemirror_mode": {
    "name": "ipython",
    "version": 3
   },
   "file_extension": ".py",
   "mimetype": "text/x-python",
   "name": "python",
   "nbconvert_exporter": "python",
   "pygments_lexer": "ipython3",
   "version": "3.8.8"
  }
 },
 "nbformat": 4,
 "nbformat_minor": 5
}
