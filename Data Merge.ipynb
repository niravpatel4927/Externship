{
 "cells": [
  {
   "cell_type": "code",
   "execution_count": 7,
   "id": "92530430",
   "metadata": {},
   "outputs": [],
   "source": [
    "import pandas as pd\n",
    "from glob import glob"
   ]
  },
  {
   "cell_type": "code",
   "execution_count": 8,
   "id": "6686a4f5",
   "metadata": {},
   "outputs": [],
   "source": [
    "df1 = pd.read_csv(\"20211108-07.19.35.csv\") # load in all datasets\n",
    "df2 = pd.read_csv(\"20211128-10.17.46.csv\")\n",
    "df3 = pd.read_csv(\"20211130-15.18.50.csv\")\n",
    "df4 = pd.read_csv(\"20211204-14.45.46.csv\")\n",
    "df5 = pd.read_csv(\"20211205-00.30.00.csv\")\n",
    "df6 = pd.read_csv(\"20211206-19.42.22.csv\")\n",
    "df7 = pd.read_csv(\"20211208-09.38.12.csv\")\n",
    "df8 = pd.read_csv(\"20211209-18.05.34.csv\")\n",
    "df9 = pd.read_csv(\"20211210-09.55.06.csv\")\n",
    "merged = pd.concat([df1, df2, df3, df4, df5, df6, df7, df8, df9])\n",
    "merged.to_csv(\"merged.csv\", index = None)"
   ]
  }
 ],
 "metadata": {
  "kernelspec": {
   "display_name": "Python 3",
   "language": "python",
   "name": "python3"
  },
  "language_info": {
   "codemirror_mode": {
    "name": "ipython",
    "version": 3
   },
   "file_extension": ".py",
   "mimetype": "text/x-python",
   "name": "python",
   "nbconvert_exporter": "python",
   "pygments_lexer": "ipython3",
   "version": "3.8.8"
  }
 },
 "nbformat": 4,
 "nbformat_minor": 5
}
