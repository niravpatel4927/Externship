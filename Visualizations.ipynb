{
 "cells": [
  {
   "cell_type": "code",
   "execution_count": 1,
   "id": "c5f9c7a9",
   "metadata": {},
   "outputs": [],
   "source": [
    "import seaborn as sns\n",
    "import pandas as pd\n",
    "import numpy as np"
   ]
  },
  {
   "cell_type": "code",
   "execution_count": 77,
   "id": "0f9dc1a3",
   "metadata": {},
   "outputs": [],
   "source": [
    "testCSV = pd.read_csv(\"testCSV.csv\")"
   ]
  },
  {
   "cell_type": "code",
   "execution_count": 78,
   "id": "b5e42c3b",
   "metadata": {},
   "outputs": [],
   "source": [
    "testCSV = testCSV.drop(columns = [\"Unnamed: 0.1\", \"Unnamed: 0.1.1\"])"
   ]
  },
  {
   "cell_type": "code",
   "execution_count": 79,
   "id": "432bc818",
   "metadata": {},
   "outputs": [],
   "source": [
    "counts = testCSV.groupby(\"Word\").count()"
   ]
  },
  {
   "cell_type": "code",
   "execution_count": 80,
   "id": "21443b25",
   "metadata": {},
   "outputs": [],
   "source": [
    "counts = counts.sort_values(\"Name\", ascending = False)"
   ]
  },
  {
   "cell_type": "code",
   "execution_count": 81,
   "id": "4db2ffd2",
   "metadata": {},
   "outputs": [],
   "source": [
    "counts = counts.rename(columns = {\"Unnamed: 0\" : \"Count\"})"
   ]
  },
  {
   "cell_type": "code",
   "execution_count": 82,
   "id": "20310709",
   "metadata": {},
   "outputs": [],
   "source": [
    "counts = counts[\"Count\"]"
   ]
  },
  {
   "cell_type": "code",
   "execution_count": 84,
   "id": "5a5dfede",
   "metadata": {},
   "outputs": [],
   "source": [
    "counts.to_csv(\"counts.csv\")"
   ]
  },
  {
   "cell_type": "code",
   "execution_count": null,
   "id": "a9768a16",
   "metadata": {},
   "outputs": [],
   "source": []
  }
 ],
 "metadata": {
  "kernelspec": {
   "display_name": "Python 3",
   "language": "python",
   "name": "python3"
  },
  "language_info": {
   "codemirror_mode": {
    "name": "ipython",
    "version": 3
   },
   "file_extension": ".py",
   "mimetype": "text/x-python",
   "name": "python",
   "nbconvert_exporter": "python",
   "pygments_lexer": "ipython3",
   "version": "3.8.8"
  }
 },
 "nbformat": 4,
 "nbformat_minor": 5
}
